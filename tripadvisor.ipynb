{
 "cells": [
  {
   "cell_type": "code",
   "execution_count": 1,
   "metadata": {},
   "outputs": [],
   "source": [
    "# Import libraries -----------------------------\n",
    "\n",
    "import csv\n",
    "import pandas as pd\n",
    "import sys\n",
    "import matplotlib.pyplot as plt\n",
    "import numpy as np\n",
    "import re\n",
    "from collections import Counter\n",
    "import string\n",
    "from nltk.corpus import stopwords as sw\n",
    "from nltk.stem.snowball import ItalianStemmer\n",
    "from nltk.tokenize import word_tokenize\n",
    "from sklearn.feature_extraction.text import TfidfVectorizer\n",
    "from sklearn.decomposition import IncrementalPCA\n",
    "from sklearn import metrics\n",
    "from sklearn.model_selection import cross_val_score"
   ]
  },
  {
   "cell_type": "code",
   "execution_count": 2,
   "metadata": {},
   "outputs": [],
   "source": [
    "# Define some global variables ------------------\n",
    "\n",
    "punctuation = string.punctuation + '\\n'\n",
    "stopwords = sw.words('italian')\n",
    "# Remove some useful words from stopwords\n",
    "stopwords.remove('non') #not\n",
    "stopwords.remove('sono') #am\n",
    "stopwords.remove(\"ma\") #but\n",
    "stopwords.remove('contro') #cons"
   ]
  },
  {
   "cell_type": "code",
   "execution_count": 3,
   "metadata": {},
   "outputs": [],
   "source": [
    "# Define functions -----------------------------\n",
    "\n",
    "def preprocessing(texts):\n",
    "    prep_texts = []\n",
    "    regex = re.compile('[%s]' % re.escape(punctuation))\n",
    "    for text in texts:\n",
    "        # Remove numbers\n",
    "        text = re.sub(r'\\d+', ' ', text)\n",
    "        # Remove foreign chars\n",
    "        text = re.sub(r'[^a-zA-ZàèéìíîòóùúÀÈÉÌÍÎÒÓÙÚ]', ' ', text)\n",
    "        # remove all the special characters\n",
    "        text = re.sub(r'\\W', ' ', text)\n",
    "        # Remove punctuation\n",
    "        text = regex.sub(\" \", text)\n",
    "        # Remove characters length equal to 1\n",
    "        text = re.sub(r\"\\b[a-zA-Zèé]\\b\", \"\", text)\n",
    "        # Remove whitespaces\n",
    "        text = text.strip()\n",
    "        # Convert text to lowercase\n",
    "        text = text.lower()\n",
    "        prep_texts.append(text)\n",
    "    return prep_texts\n",
    "\n",
    "\n",
    "def count_words(texts):\n",
    "    words = set()\n",
    "    for row in texts:\n",
    "        words.update(row.split())\n",
    "    return len(words)\n",
    "\n",
    "\n",
    "def top_n_words_occur(texts, n):\n",
    "    final_text = \" \".join(texts)\n",
    "    word_counter = Counter(final_text.split())\n",
    "    return word_counter.most_common(n)  # return a list of tuples\n",
    "\n",
    "\n",
    "def divide_dev_pos_neg(texts):\n",
    "    pos_reviews = []\n",
    "    neg_reviews = []\n",
    "    for i in range(len(dev_texts)):\n",
    "        if dev_classes[i] == 'pos':\n",
    "            pos_reviews.append(texts[i])\n",
    "        else:\n",
    "            neg_reviews.append(texts[i])\n",
    "    return pos_reviews, neg_reviews\n",
    "\n",
    "def bar_chart(list):\n",
    "    height = [h[1] for h in list[:10]]\n",
    "    print(height)\n",
    "    x = np.arange(10)\n",
    "    labels = [l[0] for l in list[:10]]\n",
    "    fig, ax = plt.subplots(figsize=(6,4))\n",
    "    ax.bar(x, height, tick_label=labels)\n",
    "    plt.show()\n",
    "\n",
    "\n",
    "def tokenization(reviews):\n",
    "    tokens = []\n",
    "    stemmer = ItalianStemmer()\n",
    "    for review in reviews:\n",
    "        t = word_tokenize(review, language='italian')\n",
    "        result = [stemmer.stem(word) for word in t if ((word not in stopwords)\n",
    "                  and (len(word) > 1) and len(word) < 18)]\n",
    "        str_result = \" \".join(result)\n",
    "        tokens.append(str_result)\n",
    "    return tokens\n",
    "\n",
    "\n",
    "# Map classes to int (0, 1)\n",
    "\n",
    "def map_classes(labels):\n",
    "    y_truth = []\n",
    "    for dc in labels:\n",
    "        if dc == \"pos\":\n",
    "            y_truth.append(0)\n",
    "        elif dc == \"neg\":\n",
    "            y_truth.append(1)\n",
    "    return y_truth"
   ]
  },
  {
   "cell_type": "code",
   "execution_count": 4,
   "metadata": {},
   "outputs": [
    {
     "name": "stdout",
     "output_type": "stream",
     "text": [
      "List of reviews len = 28754\n",
      "List of lebes len = 28754\n",
      "Correct: two lists have the same length\n",
      "Number of textual reviews in development.csv = 28754\n",
      "Number of textual reviews in evaluation.csv = 12323\n",
      "There are 19532 positive reviews in development.csv -> 67.93% of dataset\n",
      "There are 9222 positive reviews in development.csv -> 32.07% of dataset\n"
     ]
    },
    {
     "data": {
      "image/png": "[encoded data removed]",
      "text/plain": [
       "<Figure size 432x288 with 1 Axes>"
      ]
     },
     "metadata": {
      "needs_background": "light"
     },
     "output_type": "display_data"
    },
    {
     "data": {
      "image/png": "[encoded data removed]",
      "text/plain": [
       "<Figure size 432x288 with 1 Axes>"
      ]
     },
     "metadata": {},
     "output_type": "display_data"
    },
    {
     "name": "stdout",
     "output_type": "stream",
     "text": [
      "Number of total words in development.csv = 20168966\n",
      "Number of different words in development.csv = 153276\n",
      "Number of different words in positive reviews = 97103\n",
      "Number of different words in negative reviews = 92737\n"
     ]
    }
   ],
   "source": [
    "# Load data and Data exploration --------------------------\n",
    "\n",
    "# I choose to import data from csv file and save them in 2 lists\n",
    "\n",
    "dev_texts, dev_classes = [], []\n",
    "eval_texts = []\n",
    "\n",
    "with open('Datasets/development.csv', mode='r', encoding='utf-8') as dev_fp:\n",
    "    dev_reader = csv.reader(dev_fp)\n",
    "    columns = next(dev_reader)\n",
    "    for row in dev_reader:\n",
    "        if row[0] != \"\" and (row[1] == 'pos' or row[1] == 'neg'):\n",
    "            dev_texts.append(row[0])\n",
    "            dev_classes.append(row[1])\n",
    "\n",
    "# Check for the length\n",
    "\n",
    "print(\"List of reviews len =\", len(dev_texts))\n",
    "print(\"List of lebes len =\", len(dev_classes))\n",
    "\n",
    "if len(dev_texts) == len(dev_classes):\n",
    "    print(\"Correct: two lists have the same length\")\n",
    "else:\n",
    "    sys.exit(\"Error: two lists have not the same length\")\n",
    "\n",
    "y = map_classes(dev_classes)\n",
    "\n",
    "texts = pd.Series(dev_texts)\n",
    "classes = pd.Series(dev_classes)\n",
    "\n",
    "df = pd.DataFrame({columns[0]: texts, columns[1]: classes})\n",
    "\n",
    "with open('Datasets/evaluation.csv', mode='r', encoding='utf-8') as eval_fp:\n",
    "    eval_reader = csv.reader(eval_fp)\n",
    "    next(eval_reader)\n",
    "    for row in eval_reader:\n",
    "        eval_texts.append(row[0])\n",
    "\n",
    "print(\"Number of textual reviews in development.csv =\", df.shape[0])\n",
    "print(\"Number of textual reviews in evaluation.csv =\", len(eval_texts))\n",
    "\n",
    "mask_p = df['class'] == 'pos'\n",
    "mask_n = df['class'] == 'neg'\n",
    "\n",
    "t_pos = df[mask_p].count()[0]\n",
    "t_neg = df[mask_n].count()[0]\n",
    "\n",
    "print(f\"There are {t_pos} positive reviews in development.csv -> {t_pos/df.shape[0]*100:.2f}% of dataset\")\n",
    "print(f\"There are {t_neg} positive reviews in development.csv -> {t_neg/df.shape[0]*100:.2f}% of dataset\")\n",
    "\n",
    "# Plot a bar chart\n",
    "\n",
    "height = [df.shape[0], t_pos, t_neg]\n",
    "x = [1, 2, 3]\n",
    "bar_labels = ['Reviews in development.csv', 'Positive reviews', 'Negative Reviews']\n",
    "\n",
    "bar_fig, bar_ax = plt.subplots()\n",
    "bar_ax.bar(x, height, tick_label=bar_labels)\n",
    "plt.show()\n",
    "\n",
    "# Plot a pie\n",
    "\n",
    "pie = plt.pie([t_pos, t_neg], labels=[\"Positives\", \"Negatives\"], colors=['forestgreen', 'red'], autopct='%1.2f%%', explode=(0, 0.1), shadow=True, startangle=0)\n",
    "plt.show()\n",
    "\n",
    "# Statistics from dataset\n",
    "dev_all_words = count_words(df['text'])\n",
    "dev_pos_words = count_words(df.loc[mask_p, 'text'])\n",
    "dev_neg_words = count_words(df.loc[mask_n, 'text'])\n",
    "\n",
    "tot_words = 0\n",
    "for str in df['text']:\n",
    "    tot_words+=len(str)\n",
    "\n",
    "print(\"Number of total words in development.csv =\", tot_words)\n",
    "print(\"Number of different words in development.csv =\", dev_all_words)\n",
    "print(\"Number of different words in positive reviews =\", dev_pos_words)\n",
    "print(\"Number of different words in negative reviews =\", dev_neg_words)"
   ]
  },
  {
   "cell_type": "code",
   "execution_count": 5,
   "metadata": {},
   "outputs": [],
   "source": [
    "# Data Preprocessing ---------------------------------------------\n",
    "\n",
    "preproc_dev_texts = preprocessing(df['text'])\n",
    "preproc_eval_texts = preprocessing(eval_texts)"
   ]
  },
  {
   "cell_type": "code",
   "execution_count": 6,
   "metadata": {},
   "outputs": [
    {
     "name": "stdout",
     "output_type": "stream",
     "text": [
      "\n",
      "\n",
      "1 - Analysis of data after first step of preprocessing\n",
      "\n",
      "\n",
      "There are 52890 different words in development.csv\n",
      "\n",
      "Top 10 words in all texts:\n",
      "[('di', 87510), ('la', 78396), ('il', 67318), ('un', 58874), ('per', 56039), ('che', 54484), ('in', 52708), ('non', 42637), ('hotel', 37676), ('una', 37556)] \n",
      "\n",
      "[87510, 78396, 67318, 58874, 56039, 54484, 52708, 42637, 37676, 37556]\n"
     ]
    },
    {
     "data": {
      "image/png": "[encoded data removed]",
      "text/plain": [
       "<Figure size 432x288 with 1 Axes>"
      ]
     },
     "metadata": {
      "needs_background": "light"
     },
     "output_type": "display_data"
    },
    {
     "name": "stdout",
     "output_type": "stream",
     "text": [
      "[51906, 47092, 41093, 36336, 33599, 31071, 27062, 25407, 23266, 22541]\n"
     ]
    },
    {
     "data": {
      "image/png": "[encoded data removed]",
      "text/plain": [
       "<Figure size 432x288 with 1 Axes>"
      ]
     },
     "metadata": {
      "needs_background": "light"
     },
     "output_type": "display_data"
    },
    {
     "name": "stdout",
     "output_type": "stream",
     "text": [
      "[35604, 31304, 27422, 26225, 25960, 22538, 22440, 21637, 15015, 13828]\n"
     ]
    },
    {
     "data": {
      "image/png": "[encoded data removed]",
      "text/plain": [
       "<Figure size 432x288 with 1 Axes>"
      ]
     },
     "metadata": {
      "needs_background": "light"
     },
     "output_type": "display_data"
    },
    {
     "name": "stdout",
     "output_type": "stream",
     "text": [
      "Top 15 words in positive reviews:\n",
      "[('di', 51906), ('la', 47092), ('il', 41093), ('un', 36336), ('per', 33599), ('in', 31071), ('che', 27062), ('hotel', 25407), ('molto', 23266), ('una', 22541)] \n",
      "\n",
      "Top 15 words in negative reviews:\n",
      "[('di', 35604), ('la', 31304), ('che', 27422), ('il', 26225), ('non', 25960), ('un', 22538), ('per', 22440), ('in', 21637), ('una', 15015), ('era', 13828)] \n",
      "\n"
     ]
    }
   ],
   "source": [
    "# First data Analysis --------------------------------------------\n",
    "\n",
    "print(\"\\n\\n1 - Analysis of data after first step of preprocessing\\n\\n\")\n",
    "\n",
    "all_preproc_dev_words = count_words(preproc_dev_texts)\n",
    "\n",
    "print(\"There are\", all_preproc_dev_words, \"different words in development.csv\\n\")\n",
    "\n",
    "all_most_preproc_occur = top_n_words_occur(preproc_dev_texts, 10)\n",
    "\n",
    "print(\"Top 10 words in all texts:\")\n",
    "print(all_most_preproc_occur, \"\\n\")\n",
    "\n",
    "# Plot a bar char of all best words\n",
    "\n",
    "bar_chart(all_most_preproc_occur)\n",
    "\n",
    "# Divide in positive and negative reviews\n",
    "\n",
    "preproc_dev_pos_reviews, preproc_dev_neg_reviews = divide_dev_pos_neg(preproc_dev_texts)\n",
    "\n",
    "all_most_pos_occur = top_n_words_occur(preproc_dev_pos_reviews, 10)\n",
    "all_most_neg_occur = top_n_words_occur(preproc_dev_neg_reviews, 10)\n",
    "\n",
    "# Plot a bar chart of positive words\n",
    "bar_chart(all_most_pos_occur)\n",
    "\n",
    "# Plot a bar char of negative words\n",
    "bar_chart(all_most_neg_occur)\n",
    "\n",
    "print(\"Top 15 words in positive reviews:\")\n",
    "print(all_most_pos_occur, '\\n')\n",
    "print(\"Top 15 words in negative reviews:\")\n",
    "print(all_most_neg_occur, '\\n')"
   ]
  },
  {
   "cell_type": "code",
   "execution_count": 8,
   "metadata": {},
   "outputs": [
    {
     "name": "stdout",
     "output_type": "stream",
     "text": [
      "\n",
      "\n",
      "2 - Analysis of data after first step of preprocessing\n",
      "\n",
      "\n",
      "There are 27207 different tokens in development.csv\n",
      "Top 10 words in all texts:\n",
      "[('non', 42666), ('hotel', 37676), ('molt', 32691), ('ma', 24106), ('camer', 22473), ('son', 20234), ('stat', 19246), ('colazion', 18081), ('personal', 18062), ('ottim', 11532)] \n",
      "\n",
      "[42666, 37676, 32691, 24106, 22473, 20234, 19246, 18081, 18062, 11532]\n"
     ]
    },
    {
     "data": {
      "image/png": "[encoded data removed]",
      "text/plain": [
       "<Figure size 432x288 with 1 Axes>"
      ]
     },
     "metadata": {
      "needs_background": "light"
     },
     "output_type": "display_data"
    },
    {
     "name": "stdout",
     "output_type": "stream",
     "text": [
      "Top 10 words in positive reviews:\n",
      "[('hotel', 25407), ('molt', 24841), ('non', 16693), ('personal', 13448), ('ma', 13169), ('colazion', 12770), ('son', 12185), ('camer', 12084), ('stat', 11127), ('ottim', 10476)] \n",
      "\n",
      "Top 10 words in negative reviews:\n",
      "[('non', 25973), ('hotel', 12269), ('ma', 10937), ('camer', 10389), ('stat', 8119), ('son', 8049), ('molt', 7850), ('colazion', 5311), ('cos', 5050), ('sol', 4759)] \n",
      "\n"
     ]
    },
    {
     "data": {
      "image/png": "[encoded data removed]",
      "text/plain": [
       "<Figure size 432x288 with 1 Axes>"
      ]
     },
     "metadata": {
      "needs_background": "light"
     },
     "output_type": "display_data"
    },
    {
     "name": "stderr",
     "output_type": "stream",
     "text": [
      "/usr/lib/python3/dist-packages/sklearn/ensemble/weight_boosting.py:29: DeprecationWarning: numpy.core.umath_tests is an internal NumPy module and should not be imported. It will be removed in a future NumPy release.\n",
      "  from numpy.core.umath_tests import inner1d\n"
     ]
    },
    {
     "name": "stdout",
     "output_type": "stream",
     "text": [
      "Accuracy of DecisionTreeClassifier(class_weight=None, criterion='gini', max_depth=None,\n",
      "            max_features=None, max_leaf_nodes=None,\n",
      "            min_impurity_decrease=0.0, min_impurity_split=None,\n",
      "            min_samples_leaf=1, min_samples_split=2,\n",
      "            min_weight_fraction_leaf=0.0, presort=False, random_state=None,\n",
      "            splitter='best') is 0.8332463919318379\n",
      "Confusion Matrix of DecisionTreeClassifier(class_weight=None, criterion='gini', max_depth=None,\n",
      "            max_features=None, max_leaf_nodes=None,\n",
      "            min_impurity_decrease=0.0, min_impurity_split=None,\n",
      "            min_samples_leaf=1, min_samples_split=2,\n",
      "            min_weight_fraction_leaf=0.0, presort=False, random_state=None,\n",
      "            splitter='best') is [[3450  462]\n",
      " [ 497 1342]]\n"
     ]
    },
    {
     "data": {
      "image/png": "[encoded data removed]",
      "text/plain": [
       "<Figure size 432x288 with 2 Axes>"
      ]
     },
     "metadata": {
      "needs_background": "light"
     },
     "output_type": "display_data"
    },
    {
     "name": "stderr",
     "output_type": "stream",
     "text": [
      "/usr/lib/python3/dist-packages/sklearn/linear_model/stochastic_gradient.py:128: FutureWarning: max_iter and tol parameters have been added in <class 'sklearn.linear_model.stochastic_gradient.SGDClassifier'> in 0.19. If both are left unset, they default to max_iter=5 and tol=None. If tol is not None, max_iter defaults to max_iter=1000. From 0.21, default max_iter will be 1000, and default tol will be 1e-3.\n",
      "  \"and default tol will be 1e-3.\" % type(self), FutureWarning)\n",
      "/usr/lib/python3/dist-packages/sklearn/linear_model/stochastic_gradient.py:128: FutureWarning: max_iter and tol parameters have been added in <class 'sklearn.linear_model.stochastic_gradient.SGDClassifier'> in 0.19. If both are left unset, they default to max_iter=5 and tol=None. If tol is not None, max_iter defaults to max_iter=1000. From 0.21, default max_iter will be 1000, and default tol will be 1e-3.\n",
      "  \"and default tol will be 1e-3.\" % type(self), FutureWarning)\n",
      "/usr/lib/python3/dist-packages/sklearn/linear_model/stochastic_gradient.py:128: FutureWarning: max_iter and tol parameters have been added in <class 'sklearn.linear_model.stochastic_gradient.SGDClassifier'> in 0.19. If both are left unset, they default to max_iter=5 and tol=None. If tol is not None, max_iter defaults to max_iter=1000. From 0.21, default max_iter will be 1000, and default tol will be 1e-3.\n",
      "  \"and default tol will be 1e-3.\" % type(self), FutureWarning)\n",
      "/usr/lib/python3/dist-packages/sklearn/linear_model/stochastic_gradient.py:128: FutureWarning: max_iter and tol parameters have been added in <class 'sklearn.linear_model.stochastic_gradient.SGDClassifier'> in 0.19. If both are left unset, they default to max_iter=5 and tol=None. If tol is not None, max_iter defaults to max_iter=1000. From 0.21, default max_iter will be 1000, and default tol will be 1e-3.\n",
      "  \"and default tol will be 1e-3.\" % type(self), FutureWarning)\n",
      "/usr/lib/python3/dist-packages/sklearn/linear_model/stochastic_gradient.py:128: FutureWarning: max_iter and tol parameters have been added in <class 'sklearn.linear_model.stochastic_gradient.SGDClassifier'> in 0.19. If both are left unset, they default to max_iter=5 and tol=None. If tol is not None, max_iter defaults to max_iter=1000. From 0.21, default max_iter will be 1000, and default tol will be 1e-3.\n",
      "  \"and default tol will be 1e-3.\" % type(self), FutureWarning)\n",
      "/usr/lib/python3/dist-packages/sklearn/linear_model/stochastic_gradient.py:128: FutureWarning: max_iter and tol parameters have been added in <class 'sklearn.linear_model.stochastic_gradient.SGDClassifier'> in 0.19. If both are left unset, they default to max_iter=5 and tol=None. If tol is not None, max_iter defaults to max_iter=1000. From 0.21, default max_iter will be 1000, and default tol will be 1e-3.\n",
      "  \"and default tol will be 1e-3.\" % type(self), FutureWarning)\n",
      "/usr/lib/python3/dist-packages/sklearn/linear_model/stochastic_gradient.py:128: FutureWarning: max_iter and tol parameters have been added in <class 'sklearn.linear_model.stochastic_gradient.SGDClassifier'> in 0.19. If both are left unset, they default to max_iter=5 and tol=None. If tol is not None, max_iter defaults to max_iter=1000. From 0.21, default max_iter will be 1000, and default tol will be 1e-3.\n",
      "  \"and default tol will be 1e-3.\" % type(self), FutureWarning)\n",
      "/usr/lib/python3/dist-packages/sklearn/linear_model/stochastic_gradient.py:128: FutureWarning: max_iter and tol parameters have been added in <class 'sklearn.linear_model.stochastic_gradient.SGDClassifier'> in 0.19. If both are left unset, they default to max_iter=5 and tol=None. If tol is not None, max_iter defaults to max_iter=1000. From 0.21, default max_iter will be 1000, and default tol will be 1e-3.\n",
      "  \"and default tol will be 1e-3.\" % type(self), FutureWarning)\n",
      "/usr/lib/python3/dist-packages/sklearn/linear_model/stochastic_gradient.py:128: FutureWarning: max_iter and tol parameters have been added in <class 'sklearn.linear_model.stochastic_gradient.SGDClassifier'> in 0.19. If both are left unset, they default to max_iter=5 and tol=None. If tol is not None, max_iter defaults to max_iter=1000. From 0.21, default max_iter will be 1000, and default tol will be 1e-3.\n",
      "  \"and default tol will be 1e-3.\" % type(self), FutureWarning)\n",
      "/usr/lib/python3/dist-packages/sklearn/linear_model/stochastic_gradient.py:128: FutureWarning: max_iter and tol parameters have been added in <class 'sklearn.linear_model.stochastic_gradient.SGDClassifier'> in 0.19. If both are left unset, they default to max_iter=5 and tol=None. If tol is not None, max_iter defaults to max_iter=1000. From 0.21, default max_iter will be 1000, and default tol will be 1e-3.\n",
      "  \"and default tol will be 1e-3.\" % type(self), FutureWarning)\n",
      "/usr/lib/python3/dist-packages/sklearn/linear_model/stochastic_gradient.py:128: FutureWarning: max_iter and tol parameters have been added in <class 'sklearn.linear_model.stochastic_gradient.SGDClassifier'> in 0.19. If both are left unset, they default to max_iter=5 and tol=None. If tol is not None, max_iter defaults to max_iter=1000. From 0.21, default max_iter will be 1000, and default tol will be 1e-3.\n",
      "  \"and default tol will be 1e-3.\" % type(self), FutureWarning)\n"
     ]
    },
    {
     "name": "stdout",
     "output_type": "stream",
     "text": [
      "Accuracy of SGDClassifier(alpha=0.0001, average=False, class_weight=None, epsilon=0.1,\n",
      "       eta0=0.0, fit_intercept=True, l1_ratio=0.15,\n",
      "       learning_rate='optimal', loss='hinge', max_iter=None, n_iter=None,\n",
      "       n_jobs=1, penalty='l2', power_t=0.5, random_state=None,\n",
      "       shuffle=True, tol=None, verbose=0, warm_start=False) is 0.9469657450878108\n",
      "Confusion Matrix of SGDClassifier(alpha=0.0001, average=False, class_weight=None, epsilon=0.1,\n",
      "       eta0=0.0, fit_intercept=True, l1_ratio=0.15,\n",
      "       learning_rate='optimal', loss='hinge', max_iter=None, n_iter=None,\n",
      "       n_jobs=1, penalty='l2', power_t=0.5, random_state=None,\n",
      "       shuffle=True, tol=None, verbose=0, warm_start=False) is [[3793  119]\n",
      " [ 186 1653]]\n"
     ]
    },
    {
     "data": {
      "image/png": "[encoded data removed]",
      "text/plain": [
       "<Figure size 432x288 with 2 Axes>"
      ]
     },
     "metadata": {
      "needs_background": "light"
     },
     "output_type": "display_data"
    },
    {
     "name": "stdout",
     "output_type": "stream",
     "text": [
      "Accuracy of RandomForestClassifier(bootstrap=True, class_weight=None, criterion='gini',\n",
      "            max_depth=None, max_features='auto', max_leaf_nodes=None,\n",
      "            min_impurity_decrease=0.0, min_impurity_split=None,\n",
      "            min_samples_leaf=1, min_samples_split=2,\n",
      "            min_weight_fraction_leaf=0.0, n_estimators=10, n_jobs=1,\n",
      "            oob_score=False, random_state=None, verbose=0,\n",
      "            warm_start=False) is 0.894453138584594\n",
      "Confusion Matrix of RandomForestClassifier(bootstrap=True, class_weight=None, criterion='gini',\n",
      "            max_depth=None, max_features='auto', max_leaf_nodes=None,\n",
      "            min_impurity_decrease=0.0, min_impurity_split=None,\n",
      "            min_samples_leaf=1, min_samples_split=2,\n",
      "            min_weight_fraction_leaf=0.0, n_estimators=10, n_jobs=1,\n",
      "            oob_score=False, random_state=None, verbose=0,\n",
      "            warm_start=False) is [[3790  122]\n",
      " [ 485 1354]]\n"
     ]
    },
    {
     "data": {
      "image/png": "[encoded data removed]",
      "text/plain": [
       "<Figure size 432x288 with 2 Axes>"
      ]
     },
     "metadata": {
      "needs_background": "light"
     },
     "output_type": "display_data"
    },
    {
     "name": "stdout",
     "output_type": "stream",
     "text": [
      "Accuracy of LinearSVC(C=1.0, class_weight=None, dual=True, fit_intercept=True,\n",
      "     intercept_scaling=1, loss='squared_hinge', max_iter=1000,\n",
      "     multi_class='ovr', penalty='l2', random_state=None, tol=0.0001,\n",
      "     verbose=0) is 0.945226917057903\n",
      "Confusion Matrix of LinearSVC(C=1.0, class_weight=None, dual=True, fit_intercept=True,\n",
      "     intercept_scaling=1, loss='squared_hinge', max_iter=1000,\n",
      "     multi_class='ovr', penalty='l2', random_state=None, tol=0.0001,\n",
      "     verbose=0) is [[3770  142]\n",
      " [ 173 1666]]\n"
     ]
    },
    {
     "data": {
      "image/png": "[encoded data removed]",
      "text/plain": [
       "<Figure size 432x288 with 2 Axes>"
      ]
     },
     "metadata": {
      "needs_background": "light"
     },
     "output_type": "display_data"
    }
   ],
   "source": [
    "# Second data analysis ----------------------------------\n",
    "\n",
    "# Tokenization\n",
    "\n",
    "dev_token_list = tokenization(preproc_dev_texts)\n",
    "eval_token_list = tokenization(preproc_eval_texts)\n",
    "\n",
    "print(\"\\n\\n2 - Analysis of data after first step of preprocessing\\n\\n\")\n",
    "\n",
    "# Count different words\n",
    "\n",
    "diff_words = count_words(dev_token_list)\n",
    "\n",
    "print(\"There are\", diff_words, \"different tokens in development.csv\")\n",
    "\n",
    "all_most_final_occur = top_n_words_occur(dev_token_list, 10)\n",
    "\n",
    "print(\"Top 10 words in all texts:\")\n",
    "print(all_most_final_occur, \"\\n\")\n",
    "\n",
    "bar_chart(all_most_final_occur)\n",
    "\n",
    "final_dev_pos_reviews, final_dev_neg_reviews = divide_dev_pos_neg(dev_token_list)\n",
    "\n",
    "final_pos_occur = top_n_words_occur(final_dev_pos_reviews, 10)\n",
    "final_neg_occur = top_n_words_occur(final_dev_neg_reviews, 10)\n",
    "\n",
    "print(\"Top 10 words in positive reviews:\")\n",
    "print(final_pos_occur, '\\n')\n",
    "print(\"Top 10 words in negative reviews:\")\n",
    "print(final_neg_occur, '\\n')\n",
    "\n",
    "# Create a vector of TfidfVectorizer with many configurations -------------\n",
    "\n",
    "vectorizer = TfidfVectorizer(ngram_range=(1,2), max_features=1000)\n",
    "X = vectorizer.fit_transform(dev_token_list)\n",
    "pca = IncrementalPCA(n_components=100)\n",
    "X_projection = pca.fit_transform(X.toarray())\n",
    "plt.plot(pca.explained_variance_ratio_, marker='o', linestyle='')\n",
    "plt.show()\n",
    "\n",
    "# from the plot we find that n_components is 10 more or less\n",
    "\n",
    "n = 10\n",
    "pca = IncrementalPCA(n_components=n)\n",
    "#X_projection = pca.fit_transform(X.toarray())\n",
    "\n",
    "### Search for best model with best params ------------------------\n",
    "\n",
    "from sklearn.tree import DecisionTreeClassifier\n",
    "from sklearn.linear_model import SGDClassifier\n",
    "from sklearn.ensemble import RandomForestClassifier\n",
    "from sklearn.svm import LinearSVC\n",
    "\n",
    "clfs = []\n",
    "all_params = []\n",
    "\n",
    "# Add DecisionTree\n",
    "\n",
    "clfs.append(DecisionTreeClassifier())\n",
    "param_grid_DT = {\n",
    "    'criterion' : ['gini', 'entropy'],\n",
    "    'spltter' : ['best', 'random'],\n",
    "    'max_features' : ['auto', 'sqrt', 'log2'],\n",
    "    'random_state' : [42],\n",
    "    'class_weight' : [{0: 68, 1: 32}]\n",
    "}\n",
    "all_params.append(param_grid_DT)\n",
    "\n",
    "# Add SGDClassifier\n",
    "clfs.append(SGDClassifier())\n",
    "param_grid_SGD = {\n",
    "    #'alpha' : ['optimal']\n",
    "    'tol': [1e-10, 1e-7, 1e-5, 1e-3],\n",
    "    'n_jobs': [-1]\n",
    "}\n",
    "all_params.append(param_grid_SGD)\n",
    "\n",
    "# Add Random Forests\n",
    "\n",
    "clfs.append(RandomForestClassifier())\n",
    "param_grid_RF = {\n",
    "    'n_estimators':[10, 50, 100],\n",
    "    'n_jobs': [-1]\n",
    "}\n",
    "all_params.append(param_grid_RF)\n",
    "\n",
    "# Add LinearSVC\n",
    "\n",
    "clfs.append(LinearSVC())\n",
    "param_grid_SVC = {\n",
    "    'tol': [1e-11, 1e-10, 1e-8, 1e-6, 1e-4],\n",
    "    'C': [0.5, 1, 3, 5],\n",
    "}\n",
    "all_params.append(param_grid_SVC)\n",
    "\n",
    "### Algorithm choice --------------------------------------\n",
    "\n",
    "from sklearn.model_selection import train_test_split\n",
    "from sklearn.metrics import accuracy_score, confusion_matrix\n",
    "from sklearn.model_selection import cross_val_predict\n",
    "import seaborn as sns\n",
    "\n",
    "X_train, X_test, y_train, y_test = train_test_split(X,y,test_size=0.2, shuffle=True)\n",
    "\n",
    "for clf in clfs:\n",
    "    clf.fit(X_train, y_train)\n",
    "    y_pred = cross_val_predict(clf, X_test, y_test, cv=10)\n",
    "    acc = accuracy_score(y_test, y_pred)\n",
    "    print(\"Accuracy of %s is %s\"%(clf, acc))\n",
    "    \n",
    "    # Print the confusion matrix\n",
    "    \n",
    "    cm = confusion_matrix(y_test, y_pred)\n",
    "    print(\"Confusion Matrix of %s is %s\"%(clf, cm))\n",
    "    conf_mat_df = pd.DataFrame(cm)\n",
    "    conf_mat_df.index.name = 'Actual'\n",
    "    conf_mat_df.columns.name = 'Predicted'\n",
    "    sns.heatmap(conf_mat_df, annot=True, cmap='GnBu', annot_kws={\"size\":16}, fmt='g')\n",
    "    plt.show()"
   ]
  },
  {
   "cell_type": "code",
   "execution_count": null,
   "metadata": {},
   "outputs": [],
   "source": []
  }
 ],
 "metadata": {
  "kernelspec": {
   "display_name": "Python 3",
   "language": "python",
   "name": "python3"
  },
  "language_info": {
   "codemirror_mode": {
    "name": "ipython",
    "version": 3
   },
   "file_extension": ".py",
   "mimetype": "text/x-python",
   "name": "python",
   "nbconvert_exporter": "python",
   "pygments_lexer": "ipython3",
   "version": "3.6.7"
  }
 },
 "nbformat": 4,
 "nbformat_minor": 2
}
